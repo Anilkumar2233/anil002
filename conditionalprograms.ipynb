{
 "cells": [
  {
   "cell_type": "code",
   "execution_count": null,
   "metadata": {},
   "outputs": [
    {
     "name": "stdout",
     "output_type": "stream",
     "text": [
      "is positive\n"
     ]
    }
   ],
   "source": [
    "#1WAP to check whether a number is positive.if positive,print a message positive.\n",
    "a=int(input('enter num value'))\n",
    "if a>0:\n",
    "    print(\"is positive\")\n",
    "else:\n",
    "    print('is negative')"
   ]
  },
  {
   "cell_type": "code",
   "execution_count": null,
   "metadata": {},
   "outputs": [
    {
     "name": "stdout",
     "output_type": "stream",
     "text": [
      "number is less than 1 or greater than 5\n"
     ]
    }
   ],
   "source": [
    "#2wap to display hello world if the number is greater than 1 and less than 5\n",
    "num=int(input('enter num value'))\n",
    "if num>1 and num<5:\n",
    "    print('hello world') \n",
    "else:\n",
    "    print( 'number is less than 1 or greater than 5')"
   ]
  },
  {
   "cell_type": "code",
   "execution_count": null,
   "metadata": {},
   "outputs": [
    {
     "name": "stdout",
     "output_type": "stream",
     "text": [
      "divisible by 3\n"
     ]
    }
   ],
   "source": [
    "#3wap to display whether the given number is divisible by 3 or not PRINT fizz\n",
    "num=int(input('enter value'))\n",
    "if num%3==0:\n",
    "    print('divisible by 3')\n",
    "else:\n",
    "    print('fizz')"
   ]
  },
  {
   "cell_type": "code",
   "execution_count": null,
   "metadata": {},
   "outputs": [
    {
     "name": "stdout",
     "output_type": "stream",
     "text": [
      "(18+0j)\n"
     ]
    }
   ],
   "source": [
    "#4wap to check whether given input is divisible by 2 and 6.if the condition is satisfied,convert the given number into complex number.\n",
    "a=int(input('enter a value'))\n",
    "if a%2==0 and a%6==0:\n",
    "   print(complex(a))\n",
    "else:\n",
    "   print('not divisible by 2 and 6')"
   ]
  },
  {
   "cell_type": "code",
   "execution_count": null,
   "metadata": {},
   "outputs": [
    {
     "name": "stdout",
     "output_type": "stream",
     "text": [
      "['3', '0']\n"
     ]
    }
   ],
   "source": [
    "#5wap to check weather a given input is divisible by 3 or5.if the condition is satisfied ,the number is converted to a string and then string to list\n",
    "a=int(input('enter a value'))\n",
    "if a%3==0 or a%5==0:\n",
    "   b=str(a)\n",
    "   print(list(b))\n",
    "else:\n",
    "    print('not divisible')\n"
   ]
  },
  {
   "cell_type": "code",
   "execution_count": 2,
   "metadata": {},
   "outputs": [
    {
     "name": "stdout",
     "output_type": "stream",
     "text": [
      "number is not multiple\n"
     ]
    }
   ],
   "source": [
    "#6wap to check weather a given number is multiple of 5 or not\n",
    "a=int(input('enter value'))\n",
    "if a%5==0:\n",
    "   print('number is multiple')\n",
    "else:\n",
    "   print('number is not multiple')\n",
    "   "
   ]
  },
  {
   "cell_type": "code",
   "execution_count": 2,
   "metadata": {},
   "outputs": [
    {
     "name": "stdout",
     "output_type": "stream",
     "text": [
      "12 num is not 0\n"
     ]
    }
   ],
   "source": [
    "#7wap to check whether the given input is 0 or not.if 0 prints 0\n",
    "a=int(input('enter number'))\n",
    "if a==0:\n",
    "    print(a)\n",
    "else:\n",
    "    print(a,\"num is not 0\")"
   ]
  },
  {
   "cell_type": "code",
   "execution_count": 1,
   "metadata": {},
   "outputs": [
    {
     "name": "stdout",
     "output_type": "stream",
     "text": [
      "-12 is negative\n"
     ]
    }
   ],
   "source": [
    "#8 wap to check wheather a number is negative . if negative print message negative\n",
    "a=int(input('enter a value'))\n",
    "if a<0:\n",
    "    print(a,\"is negative\")\n",
    "else:\n",
    "    print(a,'is not negative')\n"
   ]
  },
  {
   "cell_type": "code",
   "execution_count": 3,
   "metadata": {},
   "outputs": [
    {
     "name": "stdout",
     "output_type": "stream",
     "text": [
      "['1', '0']\n"
     ]
    }
   ],
   "source": [
    "#9 wap to check whether a number is even or not.if even ,store the value inside the list.\n",
    "a=int(input('enter value'))\n",
    "if a%2==0:\n",
    "    b=str(a)\n",
    "    print(list(b))\n",
    "else:\n",
    "    print('number is odd')\n",
    "    "
   ]
  },
  {
   "cell_type": "code",
   "execution_count": 4,
   "metadata": {},
   "outputs": [
    {
     "name": "stdout",
     "output_type": "stream",
     "text": [
      "('1', '3')\n"
     ]
    }
   ],
   "source": [
    "#10 wap to check whether a number is odd or not.if odd,store value inside tuple.count\n",
    "a=int(input('enter value'))\n",
    "if a%2!=0:\n",
    "    b=str(a)\n",
    "    print(tuple(b))\n",
    "else:\n",
    "    print('number is even')"
   ]
  },
  {
   "cell_type": "code",
   "execution_count": 9,
   "metadata": {},
   "outputs": [
    {
     "name": "stdout",
     "output_type": "stream",
     "text": [
      "256\n"
     ]
    }
   ],
   "source": [
    "#11 wap to check if the given number is even or not. if it is yes,to print the power in a given number.\n",
    "a=int(input('enter value'))\n",
    "if a%2==0:\n",
    "    print(a**a)\n",
    "else:\n",
    "    print('num is odd')\n"
   ]
  },
  {
   "cell_type": "code",
   "execution_count": 14,
   "metadata": {},
   "outputs": [
    {
     "name": "stdout",
     "output_type": "stream",
     "text": [
      "4900\n"
     ]
    }
   ],
   "source": [
    "#13 wap to check weather a given value is divisible by 5 and 7.if value is divisible display the square of value.\n",
    "a=int(input('enter value'))\n",
    "if a%5==0 and a%7==0:\n",
    "    print(a**2)\n",
    "else:\n",
    "    print('given number is not divisible')"
   ]
  },
  {
   "cell_type": "code",
   "execution_count": 15,
   "metadata": {},
   "outputs": [
    {
     "name": "stdout",
     "output_type": "stream",
     "text": [
      "729\n"
     ]
    }
   ],
   "source": [
    "#15 wap to check weather a given value is divisible by 3 and less than 30 .if the value is divisible display the square of values\n",
    "a=int(input('enter value'))\n",
    "if a%3==0 and a<30:\n",
    "    print(a**2)\n",
    "else:\n",
    "    print('not divisible by or greater than 30')"
   ]
  },
  {
   "cell_type": "code",
   "execution_count": 17,
   "metadata": {},
   "outputs": [
    {
     "name": "stdout",
     "output_type": "stream",
     "text": [
      "4096\n"
     ]
    }
   ],
   "source": [
    "#16 wap to check whether a given value is an even number and divisible by 4.if satisfied, display the cube of values\n",
    "a=int(input('enter value'))\n",
    "if a%4==0 and a%2==0:\n",
    "    print(a**3)\n",
    "else:\n",
    "    print('not even or not divisible by 4')"
   ]
  },
  {
   "cell_type": "code",
   "execution_count": 18,
   "metadata": {},
   "outputs": [
    {
     "name": "stdout",
     "output_type": "stream",
     "text": [
      "['1', '2']\n"
     ]
    }
   ],
   "source": [
    "#17 wap to check whether a given value is even or not.if the even number store the value inside the list\n",
    "a=int(input('enter value'))\n",
    "if a%2==0:\n",
    "    b=str(a)\n",
    "    print(list(b))\n",
    "else:\n",
    "    print('not even')\n"
   ]
  },
  {
   "cell_type": "code",
   "execution_count": 21,
   "metadata": {},
   "outputs": [
    {
     "name": "stdout",
     "output_type": "stream",
     "text": [
      "0\n"
     ]
    }
   ],
   "source": [
    "#18 wap to checkwhether a given values is negative or even number.if satisfies display last digit of the values.\n",
    "a=int(input('enter a value'))\n",
    "if a<0 or a%2==0:\n",
    "    b=str(a)\n",
    "    print(b[-1])\n",
    "else:\n",
    "    print('conditions not satisfied')"
   ]
  },
  {
   "cell_type": "code",
   "execution_count": 24,
   "metadata": {},
   "outputs": [
    {
     "name": "stdout",
     "output_type": "stream",
     "text": [
      "-64\n"
     ]
    }
   ],
   "source": [
    "#19 wap to check whether a given value is negative or odd number and divisible by 4.if satisfied,display the cube of value\n",
    "a=int(input('enter value'))\n",
    "if a<0 or a%2!=0 and a%4==0:\n",
    "    print(a**3)\n",
    "else:\n",
    "    print('condition not satisfied')"
   ]
  },
  {
   "cell_type": "code",
   "execution_count": 7,
   "metadata": {},
   "outputs": [
    {
     "name": "stdout",
     "output_type": "stream",
     "text": [
      "D\n"
     ]
    }
   ],
   "source": [
    "# 20 wap to check whether a given ascii value is divisible by 4 and even value .if satisfied,display th ascii value.\n",
    "a=int(input('enter character'))\n",
    "if b%4==0 and b%2==0:\n",
    "    print(chr(a))"
   ]
  },
  {
   "cell_type": "code",
   "execution_count": 9,
   "metadata": {},
   "outputs": [
    {
     "name": "stdout",
     "output_type": "stream",
     "text": [
      "P\n"
     ]
    }
   ],
   "source": [
    "#21wap to check whether a given value present between 45 to 125 and the number should be diviible by 4 and 5 and even value.if satisfied display ascii character.\n",
    "a=int(input('enter value'))\n",
    "if a%4==0 and a%5==0 and a%2==0 and a>45 and a<100:\n",
    "    print(chr(a))\n",
    "else:\n",
    "    print('conditon not satisfied')"
   ]
  },
  {
   "cell_type": "code",
   "execution_count": 6,
   "metadata": {},
   "outputs": [
    {
     "name": "stdout",
     "output_type": "stream",
     "text": [
      "200\n"
     ]
    }
   ],
   "source": [
    "#22 wap to check weather a given value is present in between 25 to100 and the number should be divisible by 4 and 5.if satisfied display multiplication of given value with 5.\n",
    "a=int(input('enter value'))\n",
    "if a%4==0 and a%5==0 and a>25 and a<100:\n",
    "    print(a*5)\n",
    "else:\n",
    "    print('conditon not satisfied')"
   ]
  },
  {
   "cell_type": "code",
   "execution_count": null,
   "metadata": {},
   "outputs": [
    {
     "name": "stdout",
     "output_type": "stream",
     "text": [
      "divisible and odd\n"
     ]
    }
   ],
   "source": [
    "#23 wap to check weather a given number isan integer and odd number. if the condition is satisfied,the integer is divisible by 5 and display reslut.\n",
    "a=int(input('enter value'))\n",
    "if a<=0 or a>=0 and a%5==0:\n",
    "    print('divible')\n",
    "else:\n",
    "    print('condotion not satisfied')"
   ]
  },
  {
   "cell_type": "code",
   "execution_count": 13,
   "metadata": {},
   "outputs": [
    {
     "name": "stdout",
     "output_type": "stream",
     "text": [
      "4\n"
     ]
    }
   ],
   "source": [
    "# 24 #wap to check weather a if given value is an an integer or not .if integer given value is converted to string and display result\n",
    "a=int(input('enter value'))\n",
    "if a>=0 or a<=0:\n",
    "    print(str(a))\n",
    "else:\n",
    "    print('condition not satisfied')"
   ]
  },
  {
   "cell_type": "code",
   "execution_count": null,
   "metadata": {},
   "outputs": [
    {
     "name": "stdout",
     "output_type": "stream",
     "text": [
      "i\n"
     ]
    }
   ],
   "source": [
    "#25 wap to check weather given value is less than 125 and greater than 60 or not.if the condtion is satisfied ,take the name and extract middle character and display it.\n",
    "a=int(input('enter value'))\n",
    "if a<125 and a>60 :\n",
    "    b='anil'\n",
    "    print(b[len(b)//2])\n",
    "else:\n",
    "    print('condition not satisfied')"
   ]
  },
  {
   "cell_type": "code",
   "execution_count": 13,
   "metadata": {},
   "outputs": [
    {
     "name": "stdout",
     "output_type": "stream",
     "text": [
      "20\n"
     ]
    }
   ],
   "source": [
    "#26 wap to check weather a given two intergers equal or not.if both are equal,perfrom addition and display\n",
    "a=int(input('enter value'))\n",
    "b=int(input('enter value'))\n",
    "if a==b:\n",
    "    print(a+b)\n",
    "else:\n",
    "    print('given integers not equal')"
   ]
  },
  {
   "cell_type": "code",
   "execution_count": 1,
   "metadata": {},
   "outputs": [
    {
     "name": "stdout",
     "output_type": "stream",
     "text": [
      "given integers not equal\n"
     ]
    }
   ],
   "source": [
    "#27 wap to check weather two values are equal or not .if equal perfrom multiplication of two numbers and that result is division by 3 and display value.\n",
    "a=int(input('enter value'))\n",
    "b=int(input('enter value'))\n",
    "if a==b:\n",
    "    c=a*b\n",
    "    print('multiplication is',c)\n",
    "    print('division is',c//3)\n",
    "else:\n",
    "    print('given integers not equal')"
   ]
  },
  {
   "cell_type": "code",
   "execution_count": 2,
   "metadata": {},
   "outputs": [
    {
     "name": "stdout",
     "output_type": "stream",
     "text": [
      "{'a': 97}\n"
     ]
    }
   ],
   "source": [
    "#28 wap to check weather a character is in the alphabet or not. if the alphabet store the value inside dict(key as character and value as an ansii value)\n",
    "a=input('enter value')\n",
    "b={}\n",
    "if a.isalpha:\n",
    "    b[a]=ord(a)\n",
    "    print(b)\n",
    "else:\n",
    "    print('not an alphabet')"
   ]
  },
  {
   "cell_type": "code",
   "execution_count": null,
   "metadata": {},
   "outputs": [],
   "source": [
    "#29 wap tocheck weather a character is in uppercase or not. if it uppercase store value inside dict(character as a key and ascii value as a value)\n",
    "a=input('')\n",
    "b={}\n",
    "if a in ('A','B','C','D','E','F','G','H','I','J','K','L','M','N','O','P','Q','R','S','T','U','V','W','X','Y','Z'):\n",
    "    b[a]=ord(a)\n",
    "    print(b)\n",
    "else:\n",
    "    print('not an uppercase')"
   ]
  },
  {
   "cell_type": "code",
   "execution_count": null,
   "metadata": {},
   "outputs": [],
   "source": [
    "#30 wap to check whether a character is in uppercase or not.if the uppercase,convert to lower case and value inside dict(character as a key and ascii value as a value)\n",
    "a=input('')\n",
    "b={}\n",
    "if a.isupper:\n",
    "    b=()\n",
    "    \n",
    "    "
   ]
  },
  {
   "cell_type": "code",
   "execution_count": null,
   "metadata": {},
   "outputs": [],
   "source": []
  },
  {
   "cell_type": "code",
   "execution_count": null,
   "metadata": {},
   "outputs": [],
   "source": []
  },
  {
   "cell_type": "code",
   "execution_count": null,
   "metadata": {},
   "outputs": [],
   "source": []
  }
 ],
 "metadata": {
  "kernelspec": {
   "display_name": "Python 3",
   "language": "python",
   "name": "python3"
  },
  "language_info": {
   "codemirror_mode": {
    "name": "ipython",
    "version": 3
   },
   "file_extension": ".py",
   "mimetype": "text/x-python",
   "name": "python",
   "nbconvert_exporter": "python",
   "pygments_lexer": "ipython3",
   "version": "3.13.0"
  }
 },
 "nbformat": 4,
 "nbformat_minor": 2
}
